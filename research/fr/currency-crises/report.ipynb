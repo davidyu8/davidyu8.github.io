{
 "cells": [
  {
   "cell_type": "markdown",
   "id": "be4b0871",
   "metadata": {},
   "source": [
    "# Exchange Rate Crises (XRC)\n",
    "Dario Caldara, Anna Lipinska, Henry Young, David Yu"
   ]
  },
  {
   "cell_type": "markdown",
   "id": "1964b9ba",
   "metadata": {},
   "source": [
    "## Introduction\n",
    "Using data on bilateral exchange rates with the U.S. dollar from 1940 to 2020, we investigate the causes of currency crises in developing economies. This document displays various high-level overviews of currency crises. There are three types of graphics: bar charts of crisis incidence, maps showing total incidence over our time window, and maps showing dynamic incidence over time.\n",
    "\n",
    "## Links\n",
    "## Data"
   ]
  },
  {
   "cell_type": "code",
   "execution_count": null,
   "id": "3f5959bb",
   "metadata": {},
   "outputs": [],
   "source": [
    "# set up graphics production\n",
    "\n",
    "# imports\n",
    "import pandas as pd\n",
    "import numpy as np\n",
    "from plotly import express as px\n",
    "from plotly.io import write_html\n",
    "import plotly.graph_objects as go\n",
    "\n",
    "# functions\n",
    "def customLegend(fig, nameSwap):\n",
    "    \"\"\"\n",
    "    Replace default legend entries with custom ones.\n",
    "    Credit: https://stackoverflow.com/questions/64371174/plotly-how-to-change-variable-label-names-for-the-legend-in-a-plotly-express-li\n",
    "    \n",
    "    Parameters:\n",
    "        fig : Plotly figure\n",
    "        nameSwap : Python dict containing all current legend entries as keys and desired legend entries as values.\n",
    "    \n",
    "    Returns:\n",
    "        modified fig object\n",
    "    \"\"\"\n",
    "    for i, dat in enumerate(fig.data):\n",
    "        for elem in dat:\n",
    "            if elem == 'name' and fig.data[i].name in nameSwap:\n",
    "                fig.data[i].name = nameSwap[fig.data[i].name]\n",
    "    return fig\n",
    "\n",
    "def time_series_indicators(df, indicators, **kwargs):\n",
    "    \"\"\"\n",
    "    Plots the given indicators over the maximum possible timeframe.\n",
    "    \n",
    "    Parameters:\n",
    "        df: pandas DataFrame in panel format, by country and year\n",
    "        indicators: list of variable names to plot\n",
    "        **kwargs: optional arguments to pass to plotly\n",
    "        \n",
    "    Returns:\n",
    "        A plotly graph object, a bar chart showing incidence of\n",
    "        each indicator over time.\n",
    "    \"\"\"\n",
    "    \n",
    "    # aggregate count of crises by year\n",
    "    updated_indicators = []\n",
    "    for i in indicators:\n",
    "        temp = df.groupby(\"year\")[i].agg('sum')\n",
    "        df = pd.merge(df, temp, how = \"left\", on = \"year\")\n",
    "        updated_indicators.append(i + \"_y\")\n",
    "    \n",
    "    fig = px.bar(df,\n",
    "                 x = \"year\",\n",
    "                 range_x = [1950, 2020],\n",
    "                 y = updated_indicators,\n",
    "                 barmode = 'overlay',\n",
    "                 labels = {\"variable\" : \"Threshold\",\n",
    "                           \"value\" : \"Number of Crises\",\n",
    "                           \"year\" : \"Year\",\n",
    "                           \"x_ss\": \"Country Sample Size\"},\n",
    "                 hover_data = {\"variable\": False, \"year\": True, \"x_ss\": True},\n",
    "                 title = \"Number of Currency Crises, by Year <br><sup>Click on legend items to show/hide different thresholds</sup>\")\n",
    "    \n",
    "    fig = customLegend(fig = fig, nameSwap = {\"cc15_t_y\" : \"15%\",\n",
    "                                              \"cc25_t_y\" : \"25%\",\n",
    "                                              \"cc30_t_y\" : \"30%\",\n",
    "                                              \"cc15_w_y\" : \"15% (3-year window)\",\n",
    "                                              \"cc25_w_y\" : \"25% (3-year window)\",\n",
    "                                              \"cc30_w_y\" : \"30% (3-year window)\",\n",
    "                                              \"cc15_a_y\" : \"15% (3-year window, 10% acceleration)\",\n",
    "                                              \"cc25_a_y\" : \"25% (3-year window, 10% acceleration)\",\n",
    "                                              \"cc30_a_y\" : \"30% (3-year window, 10% acceleration)\"})\n",
    "    \n",
    "    fig.update_layout(xaxis_title = None)\n",
    "    \n",
    "    # hide stricter thresholds initially\n",
    "    to_hide = [\"30%\", \"25%\", \"30% (3-year window)\", \"25% (3-year window)\",\n",
    "               \"30% (3-year window, 10% acceleration)\", \"25% (3-year window, 10% acceleration)\"]\n",
    "    for i in to_hide:\n",
    "        fig.update_traces(visible = \"legendonly\",\n",
    "                          selector = dict(name = i))\n",
    "    \n",
    "    return fig\n",
    "\n",
    "def static_indicator(df, indi, **kwargs):\n",
    "    \"\"\"\n",
    "    Plots a specific indicator on a static map, showing total incidence.\n",
    "    \n",
    "    Parameters:\n",
    "        df: pandas DataFrame in panel format, by country and year\n",
    "        indi: str of one variable to plot\n",
    "        **kwargs: optional arguments to pass to plotly\n",
    "    \n",
    "    Returns:\n",
    "        plotly graph object plotting total incidence.\n",
    "    \"\"\"\n",
    "    \n",
    "    df_collapsed = df.groupby([\"country\", \"iso_alpha\"], as_index = False)[indi].aggregate(\"sum\", min_count = 1)\n",
    "    df_collapsed[indi + \"_str\"] = df_collapsed[indi].astype(str)\n",
    "    \n",
    "    # recode NaN values\n",
    "    df_collapsed.replace(to_replace = \"nan\", value = \"No Data\", inplace = True)\n",
    "\n",
    "    values = df_collapsed[indi + \"_str\"].unique()\n",
    "    color_map = {}\n",
    "    for v in values:\n",
    "        assign = \"\"\n",
    "        if v == \"0.0\": assign = \"Blue\"\n",
    "        elif v == \"1.0\" or v == \"2.0\": assign = \"Green\"\n",
    "        elif v == \"3.0\" or v == \"4.0\": assign = \"Yellow\"\n",
    "        elif v == \"5.0\" or v == \"6.0\": assign = \"Orange\"\n",
    "        elif v == \"No Data\": assign = \"Gray\"\n",
    "        else: assign = \"Crimson\"\n",
    "        color_map[v] = assign\n",
    "    \n",
    "    title_1 = indi[2:4]\n",
    "    title_2 = indi[5] # character to indicate threshold, window, or acceleration\n",
    "    if title_2 == \"t\": title_2 = \"\"\n",
    "    elif title_2 == \"w\": title_2 = \", 3-year window\"\n",
    "    elif title_2 == \"a\": title_2 = \", 3-year window, 10% acceleration\"\n",
    "    else: pass\n",
    "    \n",
    "    fig = px.choropleth(df_collapsed,\n",
    "                        locations = 'iso_alpha',\n",
    "                        title = \"Frequency of Currency Crises (\" + title_1 + \"% threshold\" + title_2 + \") from 1940-2020\",\n",
    "                        color = indi + \"_str\",\n",
    "                        color_discrete_map = color_map,\n",
    "                        category_orders = {indi + \"_str\": [\"7.0\", \"6.0\", \"5.0\", \"4.0\", \"3.0\", \"2.0\", \"1.0\", \"0.0\", \"No Data\"]},\n",
    "                        hover_name = \"country\",\n",
    "                        hover_data = {\"country\": False, \"iso_alpha\": False},\n",
    "                        labels = {\"country\": \"Country\", indi + \"_str\": \"Number of Crisis-Years\"})\n",
    "    \n",
    "    # construct dict for custom legend entries\n",
    "    legend_map = {}\n",
    "    for v in values:\n",
    "        assign = \"\"\n",
    "        if v == \"0.0\":\n",
    "            assign = \"0\"\n",
    "        elif v == \"1.0\":\n",
    "            assign = \"1-2\"\n",
    "        elif v == \"3.0\":\n",
    "            assign = \"3-4\"\n",
    "        elif v == \"5.0\":\n",
    "            assign = \"5-6\"\n",
    "        elif v == \"7.0\":\n",
    "            assign = \"7+\"\n",
    "        elif v == \"No Data\":\n",
    "            assign = \"No Data\"\n",
    "        else:\n",
    "            assign = \"hide\"\n",
    "        legend_map[v] = assign\n",
    "    \n",
    "    customLegend(fig, legend_map)\n",
    "\n",
    "    fig.update_traces(showlegend = False, selector = dict(name = \"hide\"))\n",
    "    \n",
    "    return fig\n",
    "\n",
    "def dynamic_indicator(df, indi, **kwargs):\n",
    "    \"\"\"\n",
    "    Plots a specific indicator on a dynamic map with a time slider.\n",
    "    \n",
    "    Parameters:\n",
    "        df: pandas DataFrame in panel format, by country and year\n",
    "        indi: str of one variable to plot\n",
    "        **kwargs: optional arguments to pass to plotly\n",
    "        \n",
    "    Returns:\n",
    "        plotly graph object plotting incidence over time.\n",
    "    \"\"\"\n",
    "    \n",
    "    df[\"show\"] = df[indi]\n",
    "    df[\"show\"] = df[\"show\"].replace(np.nan, \"No Data\")\n",
    "    df[\"show\"] = df[\"show\"].replace(0, \"No Crisis\")\n",
    "    df[\"show\"] = df[\"show\"].replace(1, \"Crisis\")\n",
    "\n",
    "    # add reference rows at the top (not for display!)\n",
    "    df.loc[-2] = ['null0', 1940, \"00\", \"000\", np.nan, np.nan, np.nan, np.nan, np.nan, np.nan, np.nan, np.nan, np.nan, np.nan, np.nan, np.nan, np.nan, np.nan, np.nan, \"No Crisis\"]  # adding a row\n",
    "    df.loc[-1] = ['null1', 1940, \"01\", \"001\", np.nan, np.nan, np.nan, np.nan, np.nan, np.nan, np.nan, np.nan, np.nan, np.nan, np.nan, np.nan, np.nan, np.nan, np.nan, \"Crisis\"]  # adding a row\n",
    "    df.index = df.index + 2  # shifting index\n",
    "    df.sort_index(inplace=True)\n",
    "\n",
    "    title_1 = indi[2:4]\n",
    "    title_2 = indi[5] # character to indicate threshold, window, or acceleration\n",
    "    if title_2 == \"t\": title_2 = \"\"\n",
    "    elif title_2 == \"w\": title_2 = \", 3-year window\"\n",
    "    elif title_2 == \"a\": title_2 = \", 3-year window, 10% acceleration\"\n",
    "    else: pass\n",
    "    \n",
    "    fig = px.choropleth(df,\n",
    "                        locations = 'iso_alpha',\n",
    "                        color = \"show\",\n",
    "                        color_discrete_map = {\n",
    "                            \"No Data\": \"Gray\",\n",
    "                            \"No Crisis\": \"lightskyblue\",\n",
    "                            \"Crisis\": \"Red\"\n",
    "                        },\n",
    "                        title = \"Dynamic Incidence of Exchange Rate Crises (\" + title_1 + \"% threshold\" + title_2 + \")\",\n",
    "                        animation_frame = \"year\",\n",
    "                        animation_group = \"country\",\n",
    "                        category_orders = {\"show\": [\"No Data\", \"No Crisis\", \"Crisis\"]},\n",
    "                        hover_data = {\"show\": False, \"iso_alpha\": False, \"year\": False, \"country\": True})\n",
    "\n",
    "    fig.update_layout(legend_title_text = \"Threshold:\" + indi[2:4] + \"%\")\n",
    "    \n",
    "    return fig\n",
    "\n",
    "# read in data\n",
    "data = pd.read_csv(\"xrc.csv\")\n",
    "data.rename(columns = {\"iso3\": \"iso_alpha\"}, inplace = True)"
   ]
  },
  {
   "cell_type": "markdown",
   "id": "f5527335",
   "metadata": {},
   "source": [
    "## Bar Charts"
   ]
  },
  {
   "cell_type": "code",
   "execution_count": null,
   "id": "8ba8fb58",
   "metadata": {},
   "outputs": [],
   "source": [
    "df = data.copy()\n",
    "fig = time_series_indicators(df, [\"cc15_t\", \"cc25_t\", \"cc30_t\"])\n",
    "fig.show()"
   ]
  },
  {
   "cell_type": "code",
   "execution_count": null,
   "id": "f7dcfe3e",
   "metadata": {},
   "outputs": [],
   "source": [
    "df = data.copy()\n",
    "fig = time_series_indicators(df, [\"cc15_a\", \"cc25_a\", \"cc30_a\"])\n",
    "fig.show()"
   ]
  },
  {
   "cell_type": "markdown",
   "id": "88176b81",
   "metadata": {},
   "source": [
    "## Static Incidence"
   ]
  },
  {
   "cell_type": "code",
   "execution_count": null,
   "id": "a41d3e64",
   "metadata": {},
   "outputs": [],
   "source": [
    "fig = static_indicator(df, \"cc15_t\")\n",
    "fig.show()"
   ]
  },
  {
   "cell_type": "code",
   "execution_count": null,
   "id": "117eb05a",
   "metadata": {},
   "outputs": [],
   "source": [
    "fig = static_indicator(df, \"cc25_t\")\n",
    "fig.show()"
   ]
  },
  {
   "cell_type": "code",
   "execution_count": null,
   "id": "d5d1e271",
   "metadata": {},
   "outputs": [],
   "source": [
    "fig = static_indicator(df, \"cc30_t\")\n",
    "fig.show()"
   ]
  },
  {
   "cell_type": "code",
   "execution_count": null,
   "id": "f3887c5e",
   "metadata": {},
   "outputs": [],
   "source": [
    "fig = static_indicator(df, \"cc15_a\")\n",
    "fig.show()"
   ]
  },
  {
   "cell_type": "code",
   "execution_count": null,
   "id": "987356ae",
   "metadata": {},
   "outputs": [],
   "source": [
    "fig = static_indicator(df, \"cc25_a\")\n",
    "fig.show()"
   ]
  },
  {
   "cell_type": "code",
   "execution_count": null,
   "id": "e871d54b",
   "metadata": {},
   "outputs": [],
   "source": [
    "fig = static_indicator(df, \"cc30_a\")\n",
    "fig.show()"
   ]
  },
  {
   "cell_type": "markdown",
   "id": "7d33fcec",
   "metadata": {},
   "source": [
    "## Dynamic Incidence"
   ]
  },
  {
   "cell_type": "code",
   "execution_count": null,
   "id": "13a5701e",
   "metadata": {},
   "outputs": [],
   "source": [
    "fig = dynamic_indicator(df, \"cc15_t\")\n",
    "fig.show()"
   ]
  },
  {
   "cell_type": "code",
   "execution_count": null,
   "id": "06498768",
   "metadata": {},
   "outputs": [],
   "source": [
    "fig = dynamic_indicator(df, \"cc25_t\")\n",
    "fig.show()"
   ]
  },
  {
   "cell_type": "code",
   "execution_count": null,
   "id": "970b131c",
   "metadata": {},
   "outputs": [],
   "source": [
    "fig = dynamic_indicator(df, \"cc30_t\")\n",
    "fig.show()"
   ]
  },
  {
   "cell_type": "code",
   "execution_count": null,
   "id": "4247fdeb",
   "metadata": {},
   "outputs": [],
   "source": [
    "fig = dynamic_indicator(df, \"cc15_a\")\n",
    "fig.show()"
   ]
  },
  {
   "cell_type": "code",
   "execution_count": null,
   "id": "d9f83523",
   "metadata": {},
   "outputs": [],
   "source": [
    "fig = dynamic_indicator(df, \"cc25_a\")\n",
    "fig.show()"
   ]
  },
  {
   "cell_type": "code",
   "execution_count": null,
   "id": "4ac16200",
   "metadata": {},
   "outputs": [],
   "source": [
    "fig = dynamic_indicator(df, \"cc30_a\")\n",
    "fig.show()"
   ]
  },
  {
   "cell_type": "code",
   "execution_count": null,
   "id": "b48a90e1",
   "metadata": {},
   "outputs": [],
   "source": [
    "!jupyter nbconvert --to html --TemplateExporter.exclude_input=True currency-crises.ipynb"
   ]
  }
 ],
 "metadata": {
  "kernelspec": {
   "display_name": "Python [conda env:board] *",
   "language": "python",
   "name": "conda-env-board-py"
  },
  "language_info": {
   "codemirror_mode": {
    "name": "ipython",
    "version": 3
   },
   "file_extension": ".py",
   "mimetype": "text/x-python",
   "name": "python",
   "nbconvert_exporter": "python",
   "pygments_lexer": "ipython3",
   "version": "3.8.10"
  }
 },
 "nbformat": 4,
 "nbformat_minor": 5
}
